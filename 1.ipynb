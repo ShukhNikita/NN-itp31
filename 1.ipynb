{
  "nbformat": 4,
  "nbformat_minor": 0,
  "metadata": {
    "colab": {
      "provenance": [],
      "collapsed_sections": [],
      "authorship_tag": "ABX9TyMAkjzxBGFurSN2yhQPlIbK",
      "include_colab_link": true
    },
    "kernelspec": {
      "name": "python3",
      "display_name": "Python 3"
    },
    "language_info": {
      "name": "python"
    }
  },
  "cells": [
    {
      "cell_type": "markdown",
      "metadata": {
        "id": "view-in-github",
        "colab_type": "text"
      },
      "source": [
        "<a href=\"https://colab.research.google.com/github/ShukhNikita/NN-itp31/blob/1-laba/1.ipynb\" target=\"_parent\"><img src=\"https://colab.research.google.com/assets/colab-badge.svg\" alt=\"Open In Colab\"/></a>"
      ]
    },
    {
      "cell_type": "code",
      "execution_count": null,
      "metadata": {
        "id": "h7cIw-_lCJ0P"
      },
      "outputs": [],
      "source": [
        "import numpy as np\n",
        "import random\n",
        "from sklearn.metrics import accuracy_score"
      ]
    },
    {
      "cell_type": "code",
      "source": [
        "def bit_func(x, y):\n",
        "  return x | y & ~y"
      ],
      "metadata": {
        "id": "HXn119iVCNVU"
      },
      "execution_count": null,
      "outputs": []
    },
    {
      "cell_type": "code",
      "source": [
        "def step_func(x):\n",
        "  if(x > 0):\n",
        "    return 1\n",
        "  else:\n",
        "    return 0\n",
        "\n",
        "class Neuron:\n",
        "  def __init__(self, weights, bias):\n",
        "    self.weights = weights\n",
        "    self.bias = bias\n",
        "\n",
        "  def get_sum(self, x):\n",
        "    sum = self.bias\n",
        "    for i in range(len(self.weights)):\n",
        "      sum += self.weights[i] * x[i]\n",
        "    return sum\n",
        "\n",
        "  def feed(self, x):\n",
        "    y = step_func(self.get_sum(x))\n",
        "    return y\n",
        "    \n",
        "  def print_params(self):\n",
        "    n_str = ''\n",
        "    for i in range(len(self.weights)):\n",
        "      n_str += str(self.weights[i]) + \" \"\n",
        "    print(n_str + str(self.bias))\n",
        "\n",
        "class Network:\n",
        "  def __init__(self):\n",
        "    self.n1 = Neuron([random.randint(-5, 5), random.randint(-5, 5)], random.randint(-5, 5))\n",
        "    self.n2 = Neuron([random.randint(-5, 5), random.randint(-5, 5)], random.randint(-5, 5))\n",
        "    self.o1 = Neuron([random.randint(-5, 5), random.randint(-5, 5)], random.randint(-5, 5))\n",
        "\n",
        "  def printNeurons(self):\n",
        "    print(\"[\" + str(round(self.n1.weights[0], 2)) + \" \" + str(round(self.n1.weights[1], 2)) + \" \" + str(round(self.n1.bias, 2)) + \" \" +\n",
        "                str(round(self.n2.weights[0], 2)) + \" \" + str(round(self.n2.weights[1], 2)) + \" \" + str(round(self.n2.bias, 2)) + \" \" +\n",
        "                str(round(self.o1.weights[0], 2)) + \" \" + str(round(self.o1.weights[1], 2)) + \" \" + str(round(self.o1.bias, 2)) + \"]\")\n",
        " \n",
        "  def predict(self, data):\n",
        "    y_pred = []\n",
        "    for x in data:\n",
        "      h1 = self.n1.feed(x)\n",
        "      h2 = self.n2.feed(x)\n",
        "      h = [h1, h2]\n",
        "      y_pred.append(self.o1.feed(h))\n",
        "    return(y_pred)\n",
        "\n",
        "  def trainHebb(self, data, y_trues):\n",
        "    epochs = 7\n",
        "    self.printNeurons()\n",
        "    # Цикл по эпохам\n",
        "    for epoch in range(epochs):\n",
        "      # Цикл по данным\n",
        "      for x, y_true in zip(data, y_trues):\n",
        "        # Вычисление воходов нейронов первого слоя\n",
        "        h1 = self.n1.feed(x)\n",
        "        h2 = self.n2.feed(x)\n",
        "        h = [h1, h2]\n",
        "        # Вычисление выхода сети\n",
        "        out1 = self.o1.feed(h)\n",
        "        # Сравнение с правильным ответом и коррекция весов\n",
        "        if(out1 > y_true):\n",
        "          for i in range(len(x)):\n",
        "            self.n1.weights[i] -= x[i]\n",
        "            self.n2.weights[i] -= x[i]\n",
        "            self.o1.weights[i] -= h[i]\n",
        "          self.n1.bias -= 1\n",
        "          self.n2.bias -= 1\n",
        "          self.o1.bias -= 1\n",
        "        elif(out1 < y_true):\n",
        "          for i in range(len(x)):\n",
        "            self.n1.weights[i] += x[i]\n",
        "            self.n2.weights[i] += x[i]\n",
        "            self.o1.weights[i] += h[i]\n",
        "          self.n1.bias += 1\n",
        "          self.n2.bias += 1\n",
        "          self.o1.bias += 1\n",
        "      # Оценка точности на каждой эпохе\n",
        "      y_preds = self.predict(data)\n",
        "      acc = accuracy_score(y_trues, y_preds)\n",
        "      print(\"Epoch %d acc: %.3f\" % (epoch, acc))\n",
        "      self.printNeurons()\n",
        "    # Оценка точности после обучения\n",
        "    y_preds = self.predict(data)\n",
        "    acc = accuracy_score(y_trues, y_preds)\n",
        "    print(\"acc: \" + str(acc))\n",
        "    self.printNeurons()\n",
        "      \n",
        "all_data = np.array([\n",
        "  [0, 0],\n",
        "  [1, 0],\n",
        "  [0, 1],\n",
        "  [1, 1],\n",
        "])\n",
        "\n",
        "all_y_trues = np.array([\n",
        "  0,\n",
        "  1,\n",
        "  0,\n",
        "  1,\n",
        "])\n",
        "\n",
        "network = Network()\n",
        "network.trainHebb(all_data, all_y_trues)"
      ],
      "metadata": {
        "id": "gS9QCJwuG7r6",
        "colab": {
          "base_uri": "https://localhost:8080/"
        },
        "outputId": "6bf599d6-8629-4777-c313-303146e2dd1a"
      },
      "execution_count": null,
      "outputs": [
        {
          "output_type": "stream",
          "name": "stdout",
          "text": [
            "[0 -1 3 3 4 0 -2 2 4]\n",
            "Epoch 0 acc: 0.500\n",
            "[0 -2 1 3 3 -2 -4 1 2]\n",
            "Epoch 1 acc: 0.500\n",
            "[1 -3 1 4 2 -2 -3 1 2]\n",
            "Epoch 2 acc: 0.750\n",
            "[2 -4 1 5 1 -2 -2 1 2]\n",
            "Epoch 3 acc: 0.250\n",
            "[2 -5 0 5 0 -3 -2 1 1]\n",
            "Epoch 4 acc: 1.000\n",
            "[3 -6 -1 6 -1 -4 -1 2 0]\n",
            "Epoch 5 acc: 1.000\n",
            "[3 -6 -1 6 -1 -4 -1 2 0]\n",
            "Epoch 6 acc: 1.000\n",
            "[3 -6 -1 6 -1 -4 -1 2 0]\n",
            "acc: 1.0\n",
            "[3 -6 -1 6 -1 -4 -1 2 0]\n"
          ]
        }
      ]
    }
  ]
}